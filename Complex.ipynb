{
 "cells": [
  {
   "cell_type": "markdown",
   "metadata": {},
   "source": [
    "## Classes: Dealing with Complex Numbers\n",
    "\n",
    "Link to problem: https://www.hackerrank.com/challenges/class-1-dealing-with-complex-numbers/problem\n",
    "\n",
    "<img src=\"F:\\Learning\\HackerRank\\For-Github\\Classes-comple-numbers.jpeg\">\n",
    "\n"
   ]
  },
  {
   "cell_type": "code",
   "execution_count": 1,
   "metadata": {
    "collapsed": true
   },
   "outputs": [],
   "source": [
    "import math"
   ]
  },
  {
   "cell_type": "code",
   "execution_count": 9,
   "metadata": {},
   "outputs": [],
   "source": [
    "class Complex(object):\n",
    "    def __init__(self, real, imaginary):\n",
    "        self.real = real\n",
    "        self.imaginary = imaginary\n",
    "        \n",
    "    def __add__(self, no):\n",
    "        return Complex(self.real + no.real,\n",
    "                       self.imaginary + no.imaginary)\n",
    "        \n",
    "    def __sub__(self, no):\n",
    "        return Complex(self.real - no.real,\n",
    "                       self.imaginary - no.imaginary)\n",
    "        \n",
    "        \n",
    "    def __mul__(self, no):\n",
    "        return Complex(self.real * no.real - self.imaginary * no.imaginary, \n",
    "                       self.real * no.imaginary + self.imaginary * no.real)\n",
    "        \n",
    "\n",
    "    def __truediv__(self, no):\n",
    "        sr, si, nr, ni = self.real, self.imaginary, no.real, no.imaginary \n",
    "        r = nr**2 + ni** 2 \n",
    "        return Complex((sr*nr+si*ni)/r, (si*nr-sr*ni)/r)\n",
    "\n",
    "    def mod(self):\n",
    "        return Complex((math.sqrt(math.pow(self.real, 2) + math.pow(self.imaginary , 2))),0)\n",
    "\n",
    "    def __str__(self):\n",
    "        if self.imaginary == 0:\n",
    "            result = \"%.2f+0.00i\" % (self.real)\n",
    "        elif self.real == 0:\n",
    "            if self.imaginary >= 0:\n",
    "                result = \"0.00+%.2fi\" % (self.imaginary)\n",
    "            else:\n",
    "                result = \"0.00-%.2fi\" % (abs(self.imaginary))\n",
    "        elif self.imaginary > 0:\n",
    "            result = \"%.2f+%.2fi\" % (self.real, self.imaginary)\n",
    "        else:\n",
    "            result = \"%.2f-%.2fi\" % (self.real, abs(self.imaginary))\n",
    "        return result\n",
    "\n"
   ]
  },
  {
   "cell_type": "code",
   "execution_count": 14,
   "metadata": {},
   "outputs": [
    {
     "name": "stdout",
     "output_type": "stream",
     "text": [
      "2 2\n",
      "2 2\n",
      "4.00+4.00i\n",
      "0.00+0.00i\n",
      "0.00+8.00i\n",
      "1.00+0.00i\n",
      "2.83+0.00i\n",
      "2.83+0.00i\n"
     ]
    }
   ],
   "source": [
    "# Take inputs with space between real and imaginary components\n",
    "if __name__ == '__main__':\n",
    "    c = map(float, input().split())\n",
    "    d = map(float, input().split())\n",
    "    x = Complex(*c)\n",
    "    y = Complex(*d)\n",
    "    print(*map(str, [x+y, x-y, x*y, x/y, x.mod(), y.mod()]), sep='\\n')"
   ]
  },
  {
   "cell_type": "code",
   "execution_count": null,
   "metadata": {
    "collapsed": true
   },
   "outputs": [],
   "source": []
  }
 ],
 "metadata": {
  "kernelspec": {
   "display_name": "Python 3",
   "language": "python",
   "name": "python3"
  },
  "language_info": {
   "codemirror_mode": {
    "name": "ipython",
    "version": 3
   },
   "file_extension": ".py",
   "mimetype": "text/x-python",
   "name": "python",
   "nbconvert_exporter": "python",
   "pygments_lexer": "ipython3",
   "version": "3.6.8"
  }
 },
 "nbformat": 4,
 "nbformat_minor": 2
}
